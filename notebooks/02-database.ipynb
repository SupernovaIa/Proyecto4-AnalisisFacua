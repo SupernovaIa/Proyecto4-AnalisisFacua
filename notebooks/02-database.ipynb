{
 "cells": [
  {
   "cell_type": "markdown",
   "metadata": {},
   "source": [
    "### Importing libraries"
   ]
  },
  {
   "cell_type": "code",
   "execution_count": 1,
   "metadata": {},
   "outputs": [],
   "source": [
    "# Working with databases in Python\n",
    "# -----------------------------------------------------------------------\n",
    "import psycopg2\n",
    "from psycopg2 import OperationalError, errorcodes, errors\n",
    "\n",
    "# Working with Dataframes\n",
    "# -----------------------------------------------------------------------\n",
    "import pandas as pd\n",
    "\n",
    "# Path configuration for custom module imports\n",
    "# -----------------------------------------------------------------------\n",
    "import sys\n",
    "sys.path.append('../')  # Adds the parent directory to the path for custom module imports\n",
    "\n",
    "from src.support import table_creation, data_insertion\n"
   ]
  },
  {
   "cell_type": "markdown",
   "metadata": {},
   "source": [
    "### Loading data"
   ]
  },
  {
   "cell_type": "code",
   "execution_count": 2,
   "metadata": {},
   "outputs": [],
   "source": [
    "df_category = pd.read_csv('../data/categorias.csv')\n",
    "df_supermarket = pd.read_csv('../data/supermercados.csv')\n",
    "df_historic = pd.read_csv('../data/historial.csv')\n",
    "df_products = pd.read_csv('../data/products.csv')"
   ]
  },
  {
   "cell_type": "markdown",
   "metadata": {},
   "source": [
    "### Queries for table creation"
   ]
  },
  {
   "cell_type": "code",
   "execution_count": 3,
   "metadata": {},
   "outputs": [],
   "source": [
    "# Categories\n",
    "query_creation_category = \"\"\"\n",
    "create table if not exists category (\n",
    "    category_id INT primary key,\n",
    "    category VARCHAR(100) not null unique\n",
    ");\n",
    "\"\"\"\n",
    "\n",
    "# Supermarkets\n",
    "query_creation_supermarket = \"\"\"\n",
    "create table if not exists supermarket (\n",
    "    supermarket_id INT primary key,\n",
    "    supermarket VARCHAR(100) not null unique\n",
    ");\n",
    "\"\"\"\n",
    "\n",
    "# Products\n",
    "query_creation_products = \"\"\"\n",
    "create table if not exists product (\n",
    "    product_id INT primary key,\n",
    "    url VARCHAR(300),\n",
    "    product VARCHAR(100),\n",
    "    category VARCHAR(100),\n",
    "    subcategory VARCHAR(100),\n",
    "    brand VARCHAR(100),\n",
    "    volume DECIMAL(10, 2),\n",
    "    weight DECIMAL(10, 2),\n",
    "    details VARCHAR(300)\n",
    "    );\n",
    "\"\"\"\n",
    "\n",
    "# Historic\n",
    "query_creation_historic = \"\"\"\n",
    "create table if not exists historic (\n",
    "    historic_id SERIAL primary key,\n",
    "    date DATE not null,\n",
    "    price DECIMAL(10, 2) not null,\n",
    "    delta_price\tDECIMAL(10, 2) not null,\n",
    "    product_id INT not null,\t\n",
    "    supermarket_id INT not null,\n",
    "    category_id INT not null,\n",
    "    foreign key (product_id) references product(product_id),\n",
    "    foreign key (supermarket_id) references supermarket(supermarket_id),\n",
    "    foreign key (category_id) references category(category_id)\n",
    ");\n",
    "\"\"\"\n",
    "\n",
    "# List of queries ordered\n",
    "queries = [query_creation_category, query_creation_supermarket, query_creation_products, query_creation_historic]"
   ]
  },
  {
   "cell_type": "code",
   "execution_count": 4,
   "metadata": {},
   "outputs": [
    {
     "name": "stdout",
     "output_type": "stream",
     "text": [
      "Tables created successfully.\n",
      "Database connection closed.\n"
     ]
    }
   ],
   "source": [
    "table_creation(queries)"
   ]
  },
  {
   "cell_type": "markdown",
   "metadata": {},
   "source": [
    "### Queries for data insertion"
   ]
  },
  {
   "cell_type": "code",
   "execution_count": 5,
   "metadata": {},
   "outputs": [],
   "source": [
    "# Categories\n",
    "query_insertion_category = \"\"\"\n",
    "INSERT INTO category (category_id, category)\n",
    "VALUES\n",
    "(%s, %s);\n",
    "\"\"\"\n",
    "\n",
    "# Supermarkets\n",
    "query_insertion_supermarket = \"\"\"\n",
    "INSERT INTO supermarket (supermarket_id, supermarket)\n",
    "VALUES\n",
    "(%s, %s);\n",
    "\"\"\"\n",
    "\n",
    "# Products\n",
    "query_insertion_products = \"\"\"\n",
    "INSERT INTO product (product_id, url, product, category, subcategory, brand, volume, weight, details)\n",
    "VALUES\n",
    "(%s, %s, %s, %s, %s, %s, %s, %s, %s)\n",
    "\"\"\"\n",
    "\n",
    "# Historic\n",
    "query_insertion_historic = \"\"\"\n",
    "INSERT INTO historic (date, price, delta_price, product_id, supermarket_id, category_id)\n",
    "VALUES\n",
    "(%s, %s, %s, %s, %s, %s)\n",
    "\"\"\""
   ]
  },
  {
   "cell_type": "code",
   "execution_count": 6,
   "metadata": {},
   "outputs": [
    {
     "name": "stdout",
     "output_type": "stream",
     "text": [
      "Data inserted successfully.\n",
      "Database connection closed.\n",
      "Data inserted successfully.\n",
      "Database connection closed.\n",
      "Data inserted successfully.\n",
      "Database connection closed.\n",
      "Data inserted successfully.\n",
      "Database connection closed.\n"
     ]
    }
   ],
   "source": [
    "values_category = [tuple(row) for row in df_category.values]\n",
    "data_insertion(query_creation_category, values_category)\n",
    "\n",
    "values_supermarket = [tuple(row) for row in df_supermarket.values]\n",
    "data_insertion(query_creation_supermarket, values_supermarket)\n",
    "\n",
    "values_product = [tuple(row) for row in df_products.values]\n",
    "data_insertion(query_creation_products, values_product)\n",
    "\n",
    "values_historic = [tuple(row) for row in df_historic.values]\n",
    "data_insertion(query_creation_historic, values_historic)"
   ]
  }
 ],
 "metadata": {
  "kernelspec": {
   "display_name": "proyecto4",
   "language": "python",
   "name": "python3"
  },
  "language_info": {
   "codemirror_mode": {
    "name": "ipython",
    "version": 3
   },
   "file_extension": ".py",
   "mimetype": "text/x-python",
   "name": "python",
   "nbconvert_exporter": "python",
   "pygments_lexer": "ipython3",
   "version": "3.12.7"
  }
 },
 "nbformat": 4,
 "nbformat_minor": 2
}
