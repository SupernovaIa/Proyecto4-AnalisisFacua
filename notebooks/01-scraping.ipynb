{
 "cells": [
  {
   "cell_type": "code",
   "execution_count": 6,
   "metadata": {},
   "outputs": [
    {
     "data": {
      "text/plain": [
       "True"
      ]
     },
     "execution_count": 6,
     "metadata": {},
     "output_type": "execute_result"
    }
   ],
   "source": [
    "# Data Libraries\n",
    "# -----------------------------------------------------------------------\n",
    "import pandas as pd\n",
    "import numpy as np\n",
    "\n",
    "# Pandas display configuration\n",
    "pd.set_option('display.max_columns', None)\n",
    "\n",
    "# Path configuration for custom module imports\n",
    "# -----------------------------------------------------------------------\n",
    "import sys\n",
    "sys.path.append('../')  # Adds the parent directory to the path for custom module imports\n",
    "\n",
    "# Importing custom functions\n",
    "from src.support import bulk_scraping, extract_info_ai\n",
    "\n",
    "# Environment variables and API configuration\n",
    "# -----------------------------------------------------------------------\n",
    "import os\n",
    "import dotenv\n",
    "from openai import OpenAI\n",
    "\n",
    "# OpenAI API setup\n",
    "OPENAI_API_KEY = os.getenv('token')\n",
    "\n",
    "# Load environment variables from .env file\n",
    "dotenv.load_dotenv()\n"
   ]
  },
  {
   "cell_type": "code",
   "execution_count": 7,
   "metadata": {},
   "outputs": [],
   "source": [
    "supermarket_list = ['mercadona', 'carrefour', 'eroski', 'dia', 'hipercor', 'alcampo']\n",
    "category_list = ['aceite-de-girasol', 'aceite-de-oliva', 'leche']"
   ]
  },
  {
   "cell_type": "code",
   "execution_count": 8,
   "metadata": {},
   "outputs": [],
   "source": [
    "try:\n",
    "    df_category = pd.read_csv('../data/categorias.csv')\n",
    "except:\n",
    "    df_category = pd.DataFrame(category_list).reset_index().rename(columns={'index': 'category_id', 0: 'category'})\n",
    "    df_category.to_csv('../data/categorias.csv', index = False)\n",
    "\n",
    "try:\n",
    "    df_supermarket = pd.read_csv('../data/supermercados.csv')\n",
    "except:\n",
    "    df_supermarket = pd.DataFrame(supermarket_list).reset_index().rename(columns={'index': 'supermarket_id', 0: 'supermarket'})\n",
    "    df_supermarket.to_csv('../data/supermercados.csv', index = False)"
   ]
  },
  {
   "cell_type": "code",
   "execution_count": 9,
   "metadata": {},
   "outputs": [],
   "source": [
    "try:\n",
    "    df_historic = pd.read_csv('../data/historial.csv')\n",
    "\n",
    "except:\n",
    "    df_historic = bulk_scraping(supermarket_list, category_list)\n",
    "    df_historic.to_csv('../data/historial.csv', index = False)"
   ]
  },
  {
   "cell_type": "code",
   "execution_count": 10,
   "metadata": {},
   "outputs": [],
   "source": [
    "try:\n",
    "    df_products = pd.read_csv('../data/products.csv')\n",
    "\n",
    "except:\n",
    "    df_products = df_historic[['url', 'product']].drop_duplicates()\n",
    "    df_products.reset_index(drop=True, inplace=True)\n",
    "\n",
    "    result_df = df_products['product'].apply(extract_info_ai)\n",
    "    result_df = result_df.apply(pd.Series)\n",
    "\n",
    "    # Concatenate results\n",
    "    df_products = pd.concat([df_products, result_df], axis = 1)\n",
    "\n",
    "    # Save the dataframe\n",
    "    df_products.to_csv('../data/products.csv', index = False)"
   ]
  }
 ],
 "metadata": {
  "kernelspec": {
   "display_name": "proyecto4",
   "language": "python",
   "name": "python3"
  },
  "language_info": {
   "codemirror_mode": {
    "name": "ipython",
    "version": 3
   },
   "file_extension": ".py",
   "mimetype": "text/x-python",
   "name": "python",
   "nbconvert_exporter": "python",
   "pygments_lexer": "ipython3",
   "version": "3.12.7"
  }
 },
 "nbformat": 4,
 "nbformat_minor": 2
}
