{
 "cells": [
  {
   "cell_type": "code",
   "execution_count": 22,
   "metadata": {},
   "outputs": [
    {
     "data": {
      "text/plain": [
       "True"
      ]
     },
     "execution_count": 22,
     "metadata": {},
     "output_type": "execute_result"
    }
   ],
   "source": [
    "# Data Libraries\n",
    "# -----------------------------------------------------------------------\n",
    "import pandas as pd\n",
    "\n",
    "# Pandas display configuration\n",
    "pd.set_option('display.max_columns', None)\n",
    "\n",
    "# Path configuration for custom module imports\n",
    "# -----------------------------------------------------------------------\n",
    "import sys\n",
    "sys.path.append('../')  # Adds the parent directory to the path for custom module imports\n",
    "\n",
    "# Importing custom functions\n",
    "from src.support import bulk_scraping, extract_info_ai, change_id\n",
    "\n",
    "# Environment variables and API configuration\n",
    "# -----------------------------------------------------------------------\n",
    "import os\n",
    "import dotenv\n",
    "from openai import OpenAI\n",
    "\n",
    "# OpenAI API setup\n",
    "OPENAI_API_KEY = os.getenv('token')\n",
    "\n",
    "# Load environment variables from .env file\n",
    "dotenv.load_dotenv()"
   ]
  },
  {
   "cell_type": "code",
   "execution_count": 23,
   "metadata": {},
   "outputs": [],
   "source": [
    "# List of supermarkets and categories\n",
    "supermarket_list = ['mercadona', 'carrefour', 'eroski', 'dia', 'hipercor', 'alcampo']\n",
    "category_list = ['aceite-de-girasol', 'aceite-de-oliva', 'leche']"
   ]
  },
  {
   "cell_type": "markdown",
   "metadata": {},
   "source": [
    "### DataFrame loading or creation in case they don't exist"
   ]
  },
  {
   "cell_type": "markdown",
   "metadata": {},
   "source": [
    "`Categories`"
   ]
  },
  {
   "cell_type": "code",
   "execution_count": 24,
   "metadata": {},
   "outputs": [],
   "source": [
    "try:\n",
    "    df_category = pd.read_csv('../data/categorias.csv')\n",
    "except:\n",
    "    df_category = pd.DataFrame(category_list).reset_index().rename(columns={'index': 'category_id', 0: 'category'})\n",
    "    df_category.to_csv('../data/categorias.csv', index = False)"
   ]
  },
  {
   "cell_type": "markdown",
   "metadata": {},
   "source": [
    "`Supermarkets`"
   ]
  },
  {
   "cell_type": "code",
   "execution_count": 25,
   "metadata": {},
   "outputs": [],
   "source": [
    "try:\n",
    "    df_supermarket = pd.read_csv('../data/supermercados.csv')\n",
    "except:\n",
    "    df_supermarket = pd.DataFrame(supermarket_list).reset_index().rename(columns={'index': 'supermarket_id', 0: 'supermarket'})\n",
    "    df_supermarket.to_csv('../data/supermercados.csv', index = False)"
   ]
  },
  {
   "cell_type": "markdown",
   "metadata": {},
   "source": [
    "`Historic Data`"
   ]
  },
  {
   "cell_type": "code",
   "execution_count": 26,
   "metadata": {},
   "outputs": [],
   "source": [
    "try:\n",
    "    df_historic = pd.read_csv('../data/historial.csv')\n",
    "\n",
    "except:\n",
    "    df_historic = bulk_scraping(supermarket_list, category_list)\n",
    "    df_historic.to_csv('../data/historial.csv', index = False)"
   ]
  },
  {
   "cell_type": "markdown",
   "metadata": {},
   "source": [
    "`Products`"
   ]
  },
  {
   "cell_type": "code",
   "execution_count": 27,
   "metadata": {},
   "outputs": [],
   "source": [
    "try:\n",
    "    df_products = pd.read_csv('../data/products.csv')\n",
    "\n",
    "except:\n",
    "    # Get only unique products and urls\n",
    "    df_products = df_historic[['url', 'product']].drop_duplicates()\n",
    "    df_products.reset_index(drop=True, inplace=True)\n",
    "\n",
    "    # Extract additional info from product names using AI\n",
    "    result_df = df_products['product'].apply(extract_info_ai)\n",
    "    result_df = result_df.apply(pd.Series)\n",
    "\n",
    "    # Concatenate results\n",
    "    df_products = pd.concat([df_products, result_df], axis = 1)\n",
    "\n",
    "    # Reset index to product_id column\n",
    "    df_products = df_products.reset_index().rename(columns={'index': 'product_id'})\n",
    "\n",
    "    # Save the dataframe\n",
    "    df_products.to_csv('../data/products.csv', index = False)"
   ]
  },
  {
   "cell_type": "code",
   "execution_count": 28,
   "metadata": {},
   "outputs": [],
   "source": [
    "try:\n",
    "    # Arrange columns and save the dataframe again\n",
    "    change_id(df_historic, df_supermarket, 'supermarket')\n",
    "    change_id(df_historic, df_category, 'category')\n",
    "    change_id(df_historic, df_products, 'product')\n",
    "    df_historic.drop(columns='url', inplace=True)\n",
    "\n",
    "    df_historic.to_csv('../data/historial.csv', index = False)\n",
    "\n",
    "except:\n",
    "    pass"
   ]
  },
  {
   "cell_type": "markdown",
   "metadata": {},
   "source": [
    "Quick look at the data"
   ]
  },
  {
   "cell_type": "code",
   "execution_count": 29,
   "metadata": {},
   "outputs": [
    {
     "data": {
      "text/html": [
       "<div>\n",
       "<style scoped>\n",
       "    .dataframe tbody tr th:only-of-type {\n",
       "        vertical-align: middle;\n",
       "    }\n",
       "\n",
       "    .dataframe tbody tr th {\n",
       "        vertical-align: top;\n",
       "    }\n",
       "\n",
       "    .dataframe thead th {\n",
       "        text-align: right;\n",
       "    }\n",
       "</style>\n",
       "<table border=\"1\" class=\"dataframe\">\n",
       "  <thead>\n",
       "    <tr style=\"text-align: right;\">\n",
       "      <th></th>\n",
       "      <th>category_id</th>\n",
       "      <th>category</th>\n",
       "    </tr>\n",
       "  </thead>\n",
       "  <tbody>\n",
       "    <tr>\n",
       "      <th>0</th>\n",
       "      <td>0</td>\n",
       "      <td>aceite-de-girasol</td>\n",
       "    </tr>\n",
       "    <tr>\n",
       "      <th>1</th>\n",
       "      <td>1</td>\n",
       "      <td>aceite-de-oliva</td>\n",
       "    </tr>\n",
       "    <tr>\n",
       "      <th>2</th>\n",
       "      <td>2</td>\n",
       "      <td>leche</td>\n",
       "    </tr>\n",
       "  </tbody>\n",
       "</table>\n",
       "</div>"
      ],
      "text/plain": [
       "   category_id           category\n",
       "0            0  aceite-de-girasol\n",
       "1            1    aceite-de-oliva\n",
       "2            2              leche"
      ]
     },
     "execution_count": 29,
     "metadata": {},
     "output_type": "execute_result"
    }
   ],
   "source": [
    "df_category.head()"
   ]
  },
  {
   "cell_type": "code",
   "execution_count": 30,
   "metadata": {},
   "outputs": [
    {
     "data": {
      "text/html": [
       "<div>\n",
       "<style scoped>\n",
       "    .dataframe tbody tr th:only-of-type {\n",
       "        vertical-align: middle;\n",
       "    }\n",
       "\n",
       "    .dataframe tbody tr th {\n",
       "        vertical-align: top;\n",
       "    }\n",
       "\n",
       "    .dataframe thead th {\n",
       "        text-align: right;\n",
       "    }\n",
       "</style>\n",
       "<table border=\"1\" class=\"dataframe\">\n",
       "  <thead>\n",
       "    <tr style=\"text-align: right;\">\n",
       "      <th></th>\n",
       "      <th>supermarket_id</th>\n",
       "      <th>supermarket</th>\n",
       "    </tr>\n",
       "  </thead>\n",
       "  <tbody>\n",
       "    <tr>\n",
       "      <th>0</th>\n",
       "      <td>0</td>\n",
       "      <td>mercadona</td>\n",
       "    </tr>\n",
       "    <tr>\n",
       "      <th>1</th>\n",
       "      <td>1</td>\n",
       "      <td>carrefour</td>\n",
       "    </tr>\n",
       "    <tr>\n",
       "      <th>2</th>\n",
       "      <td>2</td>\n",
       "      <td>eroski</td>\n",
       "    </tr>\n",
       "    <tr>\n",
       "      <th>3</th>\n",
       "      <td>3</td>\n",
       "      <td>dia</td>\n",
       "    </tr>\n",
       "    <tr>\n",
       "      <th>4</th>\n",
       "      <td>4</td>\n",
       "      <td>hipercor</td>\n",
       "    </tr>\n",
       "  </tbody>\n",
       "</table>\n",
       "</div>"
      ],
      "text/plain": [
       "   supermarket_id supermarket\n",
       "0               0   mercadona\n",
       "1               1   carrefour\n",
       "2               2      eroski\n",
       "3               3         dia\n",
       "4               4    hipercor"
      ]
     },
     "execution_count": 30,
     "metadata": {},
     "output_type": "execute_result"
    }
   ],
   "source": [
    "df_supermarket.head()"
   ]
  },
  {
   "cell_type": "code",
   "execution_count": 34,
   "metadata": {},
   "outputs": [
    {
     "data": {
      "text/html": [
       "<div>\n",
       "<style scoped>\n",
       "    .dataframe tbody tr th:only-of-type {\n",
       "        vertical-align: middle;\n",
       "    }\n",
       "\n",
       "    .dataframe tbody tr th {\n",
       "        vertical-align: top;\n",
       "    }\n",
       "\n",
       "    .dataframe thead th {\n",
       "        text-align: right;\n",
       "    }\n",
       "</style>\n",
       "<table border=\"1\" class=\"dataframe\">\n",
       "  <thead>\n",
       "    <tr style=\"text-align: right;\">\n",
       "      <th></th>\n",
       "      <th>product_id</th>\n",
       "      <th>url</th>\n",
       "      <th>product</th>\n",
       "      <th>category</th>\n",
       "      <th>subcategory</th>\n",
       "      <th>brand</th>\n",
       "      <th>volume</th>\n",
       "      <th>weight</th>\n",
       "      <th>details</th>\n",
       "    </tr>\n",
       "  </thead>\n",
       "  <tbody>\n",
       "    <tr>\n",
       "      <th>0</th>\n",
       "      <td>0</td>\n",
       "      <td>https://super.facua.org/mercadona/aceite-de-gi...</td>\n",
       "      <td>Aceite De Girasol Refinado 0,2º Hacendado 1 L.</td>\n",
       "      <td>aceite_girasol</td>\n",
       "      <td>0.2º</td>\n",
       "      <td>hacendado</td>\n",
       "      <td>1.0</td>\n",
       "      <td>NaN</td>\n",
       "      <td>NaN</td>\n",
       "    </tr>\n",
       "    <tr>\n",
       "      <th>1</th>\n",
       "      <td>1</td>\n",
       "      <td>https://super.facua.org/mercadona/aceite-de-gi...</td>\n",
       "      <td>Aceite De Girasol Refinado 0,2º Hacendado 5 L.</td>\n",
       "      <td>aceite_girasol</td>\n",
       "      <td>0.2º</td>\n",
       "      <td>hacendado</td>\n",
       "      <td>5.0</td>\n",
       "      <td>NaN</td>\n",
       "      <td>refinado</td>\n",
       "    </tr>\n",
       "    <tr>\n",
       "      <th>2</th>\n",
       "      <td>2</td>\n",
       "      <td>https://super.facua.org/mercadona/aceite-de-ol...</td>\n",
       "      <td>Aceite De Oliva 0,4º Hacendado 1 L.</td>\n",
       "      <td>aceite_oliva</td>\n",
       "      <td>0.4º</td>\n",
       "      <td>hacendado</td>\n",
       "      <td>1.0</td>\n",
       "      <td>NaN</td>\n",
       "      <td>NaN</td>\n",
       "    </tr>\n",
       "    <tr>\n",
       "      <th>3</th>\n",
       "      <td>3</td>\n",
       "      <td>https://super.facua.org/mercadona/aceite-de-ol...</td>\n",
       "      <td>Aceite De Oliva 1º Hacendado 1 L.</td>\n",
       "      <td>aceite_oliva</td>\n",
       "      <td>1º</td>\n",
       "      <td>hacendado</td>\n",
       "      <td>1.0</td>\n",
       "      <td>NaN</td>\n",
       "      <td>NaN</td>\n",
       "    </tr>\n",
       "    <tr>\n",
       "      <th>4</th>\n",
       "      <td>4</td>\n",
       "      <td>https://super.facua.org/mercadona/aceite-de-ol...</td>\n",
       "      <td>Aceite De Oliva Intenso Hacendado 3 L.</td>\n",
       "      <td>aceite_oliva</td>\n",
       "      <td>intenso</td>\n",
       "      <td>hacendado</td>\n",
       "      <td>3.0</td>\n",
       "      <td>NaN</td>\n",
       "      <td>NaN</td>\n",
       "    </tr>\n",
       "  </tbody>\n",
       "</table>\n",
       "</div>"
      ],
      "text/plain": [
       "   product_id                                                url  \\\n",
       "0           0  https://super.facua.org/mercadona/aceite-de-gi...   \n",
       "1           1  https://super.facua.org/mercadona/aceite-de-gi...   \n",
       "2           2  https://super.facua.org/mercadona/aceite-de-ol...   \n",
       "3           3  https://super.facua.org/mercadona/aceite-de-ol...   \n",
       "4           4  https://super.facua.org/mercadona/aceite-de-ol...   \n",
       "\n",
       "                                          product        category subcategory  \\\n",
       "0  Aceite De Girasol Refinado 0,2º Hacendado 1 L.  aceite_girasol        0.2º   \n",
       "1  Aceite De Girasol Refinado 0,2º Hacendado 5 L.  aceite_girasol        0.2º   \n",
       "2             Aceite De Oliva 0,4º Hacendado 1 L.    aceite_oliva        0.4º   \n",
       "3               Aceite De Oliva 1º Hacendado 1 L.    aceite_oliva          1º   \n",
       "4          Aceite De Oliva Intenso Hacendado 3 L.    aceite_oliva     intenso   \n",
       "\n",
       "       brand  volume  weight   details  \n",
       "0  hacendado     1.0     NaN       NaN  \n",
       "1  hacendado     5.0     NaN  refinado  \n",
       "2  hacendado     1.0     NaN       NaN  \n",
       "3  hacendado     1.0     NaN       NaN  \n",
       "4  hacendado     3.0     NaN       NaN  "
      ]
     },
     "execution_count": 34,
     "metadata": {},
     "output_type": "execute_result"
    }
   ],
   "source": [
    "df_products.head()"
   ]
  },
  {
   "cell_type": "code",
   "execution_count": 33,
   "metadata": {},
   "outputs": [
    {
     "data": {
      "text/html": [
       "<div>\n",
       "<style scoped>\n",
       "    .dataframe tbody tr th:only-of-type {\n",
       "        vertical-align: middle;\n",
       "    }\n",
       "\n",
       "    .dataframe tbody tr th {\n",
       "        vertical-align: top;\n",
       "    }\n",
       "\n",
       "    .dataframe thead th {\n",
       "        text-align: right;\n",
       "    }\n",
       "</style>\n",
       "<table border=\"1\" class=\"dataframe\">\n",
       "  <thead>\n",
       "    <tr style=\"text-align: right;\">\n",
       "      <th></th>\n",
       "      <th>Date</th>\n",
       "      <th>Price (€)</th>\n",
       "      <th>Delta Price</th>\n",
       "      <th>product_id</th>\n",
       "      <th>supermarket_id</th>\n",
       "      <th>category_id</th>\n",
       "    </tr>\n",
       "  </thead>\n",
       "  <tbody>\n",
       "    <tr>\n",
       "      <th>126649</th>\n",
       "      <td>2024-09-01</td>\n",
       "      <td>4.62</td>\n",
       "      <td>0.0</td>\n",
       "      <td>1489</td>\n",
       "      <td>5</td>\n",
       "      <td>2</td>\n",
       "    </tr>\n",
       "    <tr>\n",
       "      <th>79995</th>\n",
       "      <td>2024-07-14</td>\n",
       "      <td>54.24</td>\n",
       "      <td>0.0</td>\n",
       "      <td>949</td>\n",
       "      <td>4</td>\n",
       "      <td>1</td>\n",
       "    </tr>\n",
       "    <tr>\n",
       "      <th>101762</th>\n",
       "      <td>2024-08-13</td>\n",
       "      <td>1.16</td>\n",
       "      <td>0.0</td>\n",
       "      <td>1229</td>\n",
       "      <td>4</td>\n",
       "      <td>2</td>\n",
       "    </tr>\n",
       "    <tr>\n",
       "      <th>93301</th>\n",
       "      <td>2024-10-19</td>\n",
       "      <td>1.66</td>\n",
       "      <td>0.0</td>\n",
       "      <td>1115</td>\n",
       "      <td>4</td>\n",
       "      <td>2</td>\n",
       "    </tr>\n",
       "    <tr>\n",
       "      <th>129332</th>\n",
       "      <td>2024-09-27</td>\n",
       "      <td>1.68</td>\n",
       "      <td>0.0</td>\n",
       "      <td>1520</td>\n",
       "      <td>5</td>\n",
       "      <td>2</td>\n",
       "    </tr>\n",
       "  </tbody>\n",
       "</table>\n",
       "</div>"
      ],
      "text/plain": [
       "              Date  Price (€)  Delta Price  product_id  supermarket_id  \\\n",
       "126649  2024-09-01       4.62          0.0        1489               5   \n",
       "79995   2024-07-14      54.24          0.0         949               4   \n",
       "101762  2024-08-13       1.16          0.0        1229               4   \n",
       "93301   2024-10-19       1.66          0.0        1115               4   \n",
       "129332  2024-09-27       1.68          0.0        1520               5   \n",
       "\n",
       "        category_id  \n",
       "126649            2  \n",
       "79995             1  \n",
       "101762            2  \n",
       "93301             2  \n",
       "129332            2  "
      ]
     },
     "execution_count": 33,
     "metadata": {},
     "output_type": "execute_result"
    }
   ],
   "source": [
    "df_historic.sample(5)"
   ]
  }
 ],
 "metadata": {
  "kernelspec": {
   "display_name": "proyecto4",
   "language": "python",
   "name": "python3"
  },
  "language_info": {
   "codemirror_mode": {
    "name": "ipython",
    "version": 3
   },
   "file_extension": ".py",
   "mimetype": "text/x-python",
   "name": "python",
   "nbconvert_exporter": "python",
   "pygments_lexer": "ipython3",
   "version": "3.12.7"
  }
 },
 "nbformat": 4,
 "nbformat_minor": 2
}
